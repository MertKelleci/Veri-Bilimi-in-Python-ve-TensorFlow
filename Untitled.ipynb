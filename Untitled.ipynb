{
 "cells": [
  {
   "cell_type": "code",
   "execution_count": 1,
   "id": "75299241",
   "metadata": {},
   "outputs": [
    {
     "name": "stdout",
     "output_type": "stream",
     "text": [
      "0 2\n",
      "1 3\n",
      "2 4\n",
      "3 5\n",
      "4 6\n",
      "5 7\n"
     ]
    }
   ],
   "source": [
    "for (index, count) in enumerate(range(2,8)):\n",
    "    print(index, count)"
   ]
  },
  {
   "cell_type": "markdown",
   "id": "ef0bbf07",
   "metadata": {},
   "source": [
    "# zip"
   ]
  },
  {
   "cell_type": "code",
   "execution_count": 13,
   "id": "df9207d5",
   "metadata": {},
   "outputs": [],
   "source": [
    "a = [\"a\",\"b\",\"c\"]\n",
    "b = [1,2,3]\n",
    "c = [\"x\", \"y\", \"z\"]"
   ]
  },
  {
   "cell_type": "code",
   "execution_count": 14,
   "id": "71b22b14",
   "metadata": {},
   "outputs": [],
   "source": [
    "ziplist = list(zip(a, b, c))"
   ]
  },
  {
   "cell_type": "code",
   "execution_count": 15,
   "id": "8b0e45b4",
   "metadata": {},
   "outputs": [
    {
     "name": "stdout",
     "output_type": "stream",
     "text": [
      "[('a', 1, 'x'), ('b', 2, 'y'), ('c', 3, 'z')]\n"
     ]
    }
   ],
   "source": [
    "print(ziplist)"
   ]
  },
  {
   "cell_type": "code",
   "execution_count": 5,
   "id": "c9f800fe",
   "metadata": {},
   "outputs": [],
   "source": [
    "class Kopek():\n",
    "    \n",
    "    yilCarpani = 7\n",
    "    \n",
    "    def __init__(self, yas=5):\n",
    "        self.yas = yas\n",
    "    \n",
    "    def yasHesapla(self):\n",
    "        print(self.yas* Kopek.yilCarpani)"
   ]
  },
  {
   "cell_type": "code",
   "execution_count": 6,
   "id": "a7e7acc6",
   "metadata": {},
   "outputs": [],
   "source": [
    "kopke = Kopek()"
   ]
  },
  {
   "cell_type": "code",
   "execution_count": 7,
   "id": "19722ebf",
   "metadata": {},
   "outputs": [
    {
     "name": "stdout",
     "output_type": "stream",
     "text": [
      "35\n"
     ]
    }
   ],
   "source": [
    "kopke.yasHesapla()"
   ]
  },
  {
   "cell_type": "code",
   "execution_count": null,
   "id": "99556967",
   "metadata": {},
   "outputs": [],
   "source": []
  }
 ],
 "metadata": {
  "kernelspec": {
   "display_name": "Python 3 (ipykernel)",
   "language": "python",
   "name": "python3"
  },
  "language_info": {
   "codemirror_mode": {
    "name": "ipython",
    "version": 3
   },
   "file_extension": ".py",
   "mimetype": "text/x-python",
   "name": "python",
   "nbconvert_exporter": "python",
   "pygments_lexer": "ipython3",
   "version": "3.11.5"
  }
 },
 "nbformat": 4,
 "nbformat_minor": 5
}
